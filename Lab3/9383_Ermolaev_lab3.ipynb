{
 "cells": [
  {
   "cell_type": "markdown",
   "metadata": {},
   "source": [
    "## Ермолаев Даниил, группа 9383"
   ]
  },
  {
   "cell_type": "markdown",
   "metadata": {},
   "source": [
    "## Лабораторная работа №3:\n",
    "## Практическое применение библиотеки символьных вычислений Python (SymPy) для решения задач дискретной математики и математической логики"
   ]
  },
  {
   "cell_type": "markdown",
   "metadata": {},
   "source": [
    " ## Вариант 3: DM Вариант 43, ML Вариант 63"
   ]
  },
  {
   "cell_type": "markdown",
   "metadata": {},
   "source": [
    "## 1. Решить диофантово уравнение."
   ]
  },
  {
   "cell_type": "markdown",
   "metadata": {},
   "source": [
    "${2142x - 3655y = -119}$"
   ]
  },
  {
   "cell_type": "code",
   "execution_count": 1,
   "metadata": {},
   "outputs": [],
   "source": [
    "from sympy.solvers.diophantine import diop_solve\n",
    "from sympy.abc import x, y"
   ]
  },
  {
   "cell_type": "code",
   "execution_count": 2,
   "metadata": {},
   "outputs": [
    {
     "data": {
      "text/latex": [
       "$\\displaystyle \\left( 215 t_{0} + 203, \\  126 t_{0} + 119\\right)$"
      ],
      "text/plain": [
       "(215*t_0 + 203, 126*t_0 + 119)"
      ]
     },
     "execution_count": 2,
     "metadata": {},
     "output_type": "execute_result"
    }
   ],
   "source": [
    "diop_solve(2142 * x - 3655 * y + 119)"
   ]
  },
  {
   "cell_type": "markdown",
   "metadata": {},
   "source": [
    "## 2. Имея открытую часть ключа RSA найти соответствующую закрытую часть и расшифровать кодированное слово."
   ]
  },
  {
   "cell_type": "markdown",
   "metadata": {},
   "source": [
    "${e = 11, m = 33}$"
   ]
  },
  {
   "cell_type": "code",
   "execution_count": 3,
   "metadata": {},
   "outputs": [],
   "source": [
    "from sympy.crypto.crypto import decipher_rsa\n",
    "from sympy.crypto.crypto import rsa_private_key"
   ]
  },
  {
   "cell_type": "code",
   "execution_count": 4,
   "metadata": {},
   "outputs": [
    {
     "name": "stdout",
     "output_type": "stream",
     "text": [
      "Закрытый ключ: (33, 11)\n",
      "Зашифрованное сообщение: ВЕЩЬ [4, 7, 27, 29]\n",
      "Дешифрованное сообщение: ВЕЩЬ [4, 7, 27, 29]\n"
     ]
    }
   ],
   "source": [
    "alphabet = [\"А\", \"Б\", \"В\", \"Г\", \"Д\", \"Е\",\n",
    "            \"Ж\", \"З\", \"И\", \"Й\", \"К\", \"Л\",\n",
    "            \"М\", \"Н\", \"О\", \"П\", \"Р\", \"С\", \n",
    "            \"Т\", \"У\", \"Ф\", \"Х\", \"Ц\", \"Ч\",\n",
    "            \"Ш\", \"Щ\", \"Ы\", \"Ь\", \"Э\", \"Ю\",\n",
    "            \"Я\"]\n",
    "\n",
    "e = 11\n",
    "m = 33\n",
    "\n",
    "privateKey = rsa_private_key(m, e)\n",
    "print(\"Закрытый ключ:\", privateKey)\n",
    "\n",
    "encryptedMessage = [4, 7, 27, 29]\n",
    "print(\"Зашифрованное сообщение:\", \n",
    "      \"\".join([alphabet[ch - 2] for ch in encryptedMessage]),\n",
    "     encryptedMessage)\n",
    "decryptedMessage = [decipher_rsa(ch, privateKey) for ch in encryptedMessage]\n",
    "print(\"Дешифрованное сообщение:\", \n",
    "      \"\".join([alphabet[ch - 2] for ch in decryptedMessage]),\n",
    "     decryptedMessage)"
   ]
  },
  {
   "cell_type": "markdown",
   "metadata": {},
   "source": [
    "## 3. Записать в формате ДНФ и КНФ булеву функцию, заданную своим аналитическим выражением."
   ]
  },
  {
   "cell_type": "markdown",
   "metadata": {},
   "source": [
    "${f(x, y, z) = ((z \\ xor \\  y) \\lor (y \\lor x))\\ xor \\ ((xz)\\lor(zy))}$"
   ]
  },
  {
   "cell_type": "code",
   "execution_count": 2,
   "metadata": {},
   "outputs": [],
   "source": [
    "from sympy.logic.boolalg import to_dnf, to_cnf, Xor\n",
    "from sympy.abc import X, Y, Z"
   ]
  },
  {
   "cell_type": "code",
   "execution_count": 3,
   "metadata": {},
   "outputs": [],
   "source": [
    "f = (Xor((Xor(Z, Y)|(Y | X)), ((X & Z) | (Z & Y)))) "
   ]
  },
  {
   "cell_type": "code",
   "execution_count": 4,
   "metadata": {},
   "outputs": [
    {
     "name": "stdout",
     "output_type": "stream",
     "text": [
      "ДНФ:\n"
     ]
    },
    {
     "data": {
      "text/latex": [
       "$\\displaystyle \\left(X \\wedge \\neg Z\\right) \\vee \\left(Y \\wedge \\neg Z\\right) \\vee \\left(Z \\wedge \\neg X \\wedge \\neg Y\\right)$"
      ],
      "text/plain": [
       "(X & ~Z) | (Y & ~Z) | (Z & ~X & ~Y)"
      ]
     },
     "execution_count": 4,
     "metadata": {},
     "output_type": "execute_result"
    }
   ],
   "source": [
    "print(\"ДНФ:\")\n",
    "to_dnf(f, True)"
   ]
  },
  {
   "cell_type": "code",
   "execution_count": 5,
   "metadata": {},
   "outputs": [
    {
     "name": "stdout",
     "output_type": "stream",
     "text": [
      "КНФ:\n"
     ]
    },
    {
     "data": {
      "text/latex": [
       "$\\displaystyle \\left(\\neg X \\vee \\neg Z\\right) \\wedge \\left(\\neg Y \\vee \\neg Z\\right) \\wedge \\left(X \\vee Y \\vee Z\\right)$"
      ],
      "text/plain": [
       "(X | Y | Z) & (~X | ~Z) & (~Y | ~Z)"
      ]
     },
     "execution_count": 5,
     "metadata": {},
     "output_type": "execute_result"
    }
   ],
   "source": [
    "print(\"КНФ:\")\n",
    "to_cnf(f, True)"
   ]
  },
  {
   "cell_type": "code",
   "execution_count": null,
   "metadata": {},
   "outputs": [],
   "source": []
  }
 ],
 "metadata": {
  "kernelspec": {
   "display_name": "Python 3 (ipykernel)",
   "language": "python",
   "name": "python3"
  },
  "language_info": {
   "codemirror_mode": {
    "name": "ipython",
    "version": 3
   },
   "file_extension": ".py",
   "mimetype": "text/x-python",
   "name": "python",
   "nbconvert_exporter": "python",
   "pygments_lexer": "ipython3",
   "version": "3.9.7"
  }
 },
 "nbformat": 4,
 "nbformat_minor": 4
}
